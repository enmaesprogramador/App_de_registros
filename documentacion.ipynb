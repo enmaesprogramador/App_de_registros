{
 "cells": [
  {
   "cell_type": "markdown",
   "metadata": {},
   "source": [
    "# Bibliotecas necesarias"
   ]
  },
  {
   "cell_type": "code",
   "execution_count": null,
   "metadata": {},
   "outputs": [],
   "source": [
    "import tkinter as tk\n",
    "import mysql.connector\n",
    "# from ttkbootstrap import Style\n",
    "from tkinter import ttk"
   ]
  },
  {
   "cell_type": "markdown",
   "metadata": {},
   "source": [
    "# Funcion, nueva ventana"
   ]
  },
  {
   "cell_type": "markdown",
   "metadata": {},
   "source": [
    "Front-End"
   ]
  },
  {
   "cell_type": "code",
   "execution_count": null,
   "metadata": {},
   "outputs": [],
   "source": [
    "def add_note():\n",
    "    # Creacion de la ventana de tkinter\n",
    "    \n",
    "    \n",
    "    root = tk.Toplevel(root1) # Nueva ventana desde root1\n",
    "    root.geometry(\"500x500\") # Ventana 500x500\n",
    "    root.title('Insertar Datos en la Base de Datos')\n",
    "    \n",
    "    # Estilos para los widgets\n",
    "    label_style = (\"Arial\", 12)\n",
    "    entry_style = (\"Arial\", 12)\n",
    "\n",
    "    \n",
    "    # Widgets de entrada\n",
    "    label_nombre = tk.Label(root, text=\"Nombre:\", font=label_style)\n",
    "    label_nombre.pack()\n",
    "    nombre_entry = tk.Entry(root, font=entry_style)\n",
    "    nombre_entry.pack(padx=10, pady=5)\n",
    "\n",
    "\n",
    "    # Widgets de entrada edad\n",
    "    label_edad = tk.Label(root, text=\"Edad:\", font=label_style)\n",
    "    label_edad.pack()\n",
    "    edad_entry = tk.Entry(root, font=entry_style)\n",
    "    edad_entry.pack(padx=10, pady=5)\n",
    "\n",
    "\n",
    "    # Widgets de entrada usuario\n",
    "    label_nombre_usuario = tk.Label(root, text=\"Usuario:\", font=label_style)\n",
    "    label_nombre_usuario.pack()\n",
    "    nombre_usuario_entry = tk.Entry(root, font=entry_style)\n",
    "    nombre_usuario_entry.pack(padx=10, pady=5)\n",
    "\n",
    "    # Widgets de entrada email\n",
    "    label_email = tk.Label(root, text=\"Email:\", font=label_style)\n",
    "    label_email.pack()\n",
    "    email_entry = tk.Entry(root, font=entry_style)\n",
    "    email_entry.pack(padx=10, pady=5)\n",
    "\n",
    "    # Widgets de entrada telefono\n",
    "    label_telefono = tk.Label(root, text=\"Telefono:\", font=label_style)\n",
    "    label_telefono.pack()\n",
    "    numero_telefonico_entry = tk.Entry(root, font=entry_style)\n",
    "    numero_telefonico_entry.pack(padx=10, pady=5)\n",
    "\n",
    "    # Widgets de entrada empresa\n",
    "    label_empresa = tk.Label(root, text=\"Empresa:\", font=label_style)\n",
    "    label_empresa.pack()\n",
    "    empresa_entry = tk.Entry(root, font=entry_style)\n",
    "    empresa_entry.pack(padx=10, pady=5)"
   ]
  },
  {
   "cell_type": "markdown",
   "metadata": {},
   "source": [
    "# Funcion, guardar datos (dentro de load_notes())"
   ]
  },
  {
   "cell_type": "code",
   "execution_count": null,
   "metadata": {},
   "outputs": [],
   "source": [
    "# FUNCION PARA GUARDAR DATOS:\n",
    "    def save_data():\n",
    "        nombre = nombre_entry.get() # Obtener datos de \"nombre_entry\"\n",
    "        edad = edad_entry.get() # Obtener datos de \"edad_entry\"\n",
    "        nombre_usuario = nombre_usuario_entry.get() # Obtener datos de \"nombre_usuario_entry\"\n",
    "        email = email_entry.get() # Obtener datos de \"email_entry\"\n",
    "        numero_telefonico = numero_telefonico_entry.get() # Obtener datos de \"numero_telefonico_entry\"\n",
    "        empresa = empresa_entry.get() # Obtener datos de \"empresa_entry\"\n",
    "    \n",
    "        # Conexion la base de datos\n",
    "        conexion_guardar_Data = mysql.connector.connect(\n",
    "            host=\"localhost\",\n",
    "            user= \"root\",\n",
    "            password=\"password\",\n",
    "            database=\"database\",\n",
    "            port=0000\n",
    "        )\n",
    "    \n",
    "        # Objeto cursor\n",
    "        cursor = conexion_guardar_Data.cursor()\n",
    "    \n",
    "        # Consulta para insertar los datos a la tabla\n",
    "        consulta = \"INSERT INTO users2 (nombre, edad, username, email, numero_telefonico, empresa) VALUES(%s, %s, %s,%s, %s, %s)\"\n",
    "    \n",
    "        # Datos a insertar\n",
    "        datos = (nombre, edad, nombre_usuario, email, numero_telefonico, empresa)\n",
    "    \n",
    "        # Ejecutar la consulta utilizando el método execute() del objeto cursor\n",
    "        cursor.execute(consulta, datos) # Insertar los datos de los entry a la tabla\n",
    "    \n",
    "        # Confirmar la transaccion\n",
    "        conexion_guardar_Data.commit()\n",
    "        \n",
    "        # Cerrar la conexion y el cursor\n",
    "        cursor.close()\n",
    "        conexion_guardar_Data.close()\n",
    "        \n",
    "        \n",
    "        # ACTUALIZAR EL TREEVIEW:\n",
    "        \n",
    "        # Conectar a la base de datos MySQL\n",
    "        conexion_mostrar_Data = mysql.connector.connect(\n",
    "            host=\"localhost\",\n",
    "            user= \"root\",\n",
    "            password=\"password\",\n",
    "            database=\"database\",\n",
    "            port=0000\n",
    "        )\n",
    "\n",
    "        # Crear un cursor para ejecutar consultas\n",
    "        cursor1 = conexion_mostrar_Data.cursor()\n",
    "\n",
    "        # Consulta SQL para seleccionar todos los datos de la tabla\n",
    "        consulta_mostrar_datos = \"SELECT * FROM users2\"\n",
    "\n",
    "        # Ejecutar la consulta\n",
    "        cursor1.execute(consulta_mostrar_datos)\n",
    "\n",
    "        # Obtener todos los registros\n",
    "        filas = cursor1.fetchall()\n",
    "    \n",
    "        filas_actuales = [tree.item(item, 'values') for item in tree.get_children()] # Obtener los datos actuales del \"treeview\"\n",
    "    \n",
    "        # Recorrer cada una de las filas, para eliminarlas\n",
    "        for row in tree.get_children():\n",
    "            tree.delete(row)\n",
    "    \n",
    "        # Insertar los datos nuevamente\n",
    "        for fila in filas:\n",
    "            if fila not in filas_actuales:\n",
    "                tree.insert(\"\", \"end\", values=fila)\n",
    "    \n",
    "        # Limpiar los campos una vez se haya completado los datos\n",
    "        nombre_entry.delete(0, tk.END)\n",
    "        edad_entry.delete(0, tk.END)\n",
    "        nombre_usuario_entry.delete(0, tk.END)\n",
    "        email_entry.delete(0, tk.END)\n",
    "        numero_telefonico_entry.delete(0, tk.END)\n",
    "        empresa_entry.delete(0, tk.END)"
   ]
  },
  {
   "cell_type": "markdown",
   "metadata": {},
   "source": [
    "Estilo y boton para la ventana de ingresar datos"
   ]
  },
  {
   "cell_type": "markdown",
   "metadata": {},
   "source": [
    "Fuera de la funcion \"save_data()\""
   ]
  },
  {
   "cell_type": "code",
   "execution_count": null,
   "metadata": {},
   "outputs": [],
   "source": [
    "     # Estilo para los botones\n",
    "    button_style = (\"Arial\", 14, \"bold\")\n",
    "    # BOTON PARA ENVIAR DATOS:\n",
    "    save_button = tk.Button(root, command=save_data, text=\"Ingresar Datos\", font=button_style,bg='#4CAF50', fg='white') # save_data como comando\n",
    "    save_button.pack(pady=20)"
   ]
  },
  {
   "cell_type": "markdown",
   "metadata": {},
   "source": [
    "# Eliminar filas del treeview"
   ]
  },
  {
   "cell_type": "code",
   "execution_count": null,
   "metadata": {},
   "outputs": [],
   "source": [
    "def eliminar_Data():\n",
    "    conn = mysql.connector.connect(\n",
    "        host=\"localhost\",\n",
    "        user= \"root\",\n",
    "        password=\"password\",\n",
    "        database=\"database\",\n",
    "        port=0000\n",
    "    )\n",
    "    \n",
    "    # Obtener el ID de la fila seleccionada en el Treeview\n",
    "    x = tree.selection()[0] # Indicando que el \"id\" es el indice 0\n",
    "    \n",
    "    # Eliminar la fila seleccionada\n",
    "    tree.delete(x)\n",
    "   \n",
    "    # Objeto cursor \n",
    "    cursor_eliminar_Datos = conn.cursor()\n",
    "    \n",
    "    # Consulta para eliminar datos \n",
    "    consulta_eliminar_Data = \"DELETE FROM users2 WHERE id=%s\"\n",
    "    \n",
    "    # Ejecutar la consulta \n",
    "    cursor_eliminar_Datos.execute(consulta_eliminar_Data, (x,))\n",
    "    \n",
    "    # Confirmar la transaccion  \n",
    "    conn.commit()\n",
    "    \n",
    "    # Cerrar la conexion a la base de datos\n",
    "    conn.close()"
   ]
  },
  {
   "cell_type": "markdown",
   "metadata": {},
   "source": [
    "# Ventana Principal"
   ]
  },
  {
   "cell_type": "markdown",
   "metadata": {},
   "source": [
    "Conectar a bases de datos y mostrar todos los datos de la tabla"
   ]
  },
  {
   "cell_type": "code",
   "execution_count": null,
   "metadata": {},
   "outputs": [],
   "source": [
    "# VENTANA PARA EL TREEVIEW: \n",
    "\n",
    "# Conectar a la base de datos MySQL\n",
    "conexion_mostrar_Data = mysql.connector.connect(\n",
    "    host=\"localhost\",\n",
    "    user= \"root\",\n",
    "    password=\"password\",\n",
    "    database=\"database\",\n",
    "    port=0000\n",
    ")\n",
    "\n",
    "\n",
    "# Crear un cursor para ejecutar consultas\n",
    "cursor_mostrar_datos = conexion_mostrar_Data.cursor()\n",
    "\n",
    "# Consulta SQL para seleccionar todos los datos de la tabla\n",
    "consulta_mostrar_datos = \"SELECT * FROM users2\"\n",
    "\n",
    "# Ejecutar la consulta\n",
    "cursor_mostrar_datos.execute(consulta_mostrar_datos)\n",
    "\n",
    "# Obtener todos los registros\n",
    "filas = cursor_mostrar_datos.fetchall()"
   ]
  },
  {
   "cell_type": "markdown",
   "metadata": {},
   "source": [
    "Funcion para cerrar la ventana principal y la conexion"
   ]
  },
  {
   "cell_type": "code",
   "execution_count": null,
   "metadata": {},
   "outputs": [],
   "source": [
    "# Función para cerrar la conexión a la base de datos\n",
    "def cerrar_conexion():\n",
    "    conexion_mostrar_Data.close()\n",
    "    root1.destroy()"
   ]
  },
  {
   "cell_type": "markdown",
   "metadata": {},
   "source": [
    "Crear la ventana principal"
   ]
  },
  {
   "cell_type": "code",
   "execution_count": null,
   "metadata": {},
   "outputs": [],
   "source": [
    "# VENTANA PRINCIPAL\n",
    "root1 = tk.Tk()\n",
    "root1.title(\"Datos de la Tabla de Usuarios\")"
   ]
  },
  {
   "cell_type": "markdown",
   "metadata": {},
   "source": [
    "# Creacion del TreeView"
   ]
  },
  {
   "cell_type": "code",
   "execution_count": null,
   "metadata": {},
   "outputs": [],
   "source": [
    "# Crear un Treeview en root1 para mostrar los datos\n",
    "tree = ttk.Treeview(root1)\n",
    "# Asignar los nombres de las columnas al treeview\n",
    "tree[\"columns\"] = tuple(cursor_mostrar_datos.column_names)"
   ]
  },
  {
   "cell_type": "markdown",
   "metadata": {},
   "source": [
    "Mostrar los nombres de las columnas con la consulta en el cursor"
   ]
  },
  {
   "cell_type": "code",
   "execution_count": null,
   "metadata": {},
   "outputs": [],
   "source": [
    "# Configurar encabezados de las columnas\n",
    "for col in cursor_mostrar_datos.column_names:\n",
    "    tree.column(col, anchor=\"s\")\n",
    "    tree.heading(col, text=col)"
   ]
  },
  {
   "cell_type": "markdown",
   "metadata": {},
   "source": [
    "Insertar los datos de la tabla en el TreeView"
   ]
  },
  {
   "cell_type": "code",
   "execution_count": null,
   "metadata": {},
   "outputs": [],
   "source": [
    "# Insertar datos en el Treeview\n",
    "for i in filas:\n",
    "    tree.insert(\"\", \"end\", iid=i[0], values=i)# Se insertan los datos, y se indica que el \"id\" es el indice 0\n",
    "\n",
    "tree.pack(padx=20, pady=20)"
   ]
  },
  {
   "cell_type": "markdown",
   "metadata": {},
   "source": [
    "# Botones de la ventana principal"
   ]
  },
  {
   "cell_type": "code",
   "execution_count": null,
   "metadata": {},
   "outputs": [],
   "source": [
    "# Estilo para los botones\n",
    "button_style1 = (\"Arial\", 14, \"bold\")\n",
    "\n",
    "# Botón para cerrar la conexión y salir\n",
    "boton_cerrar = tk.Button(root1, text=\"Cerrar\", command=cerrar_conexion,\n",
    "                         font=button_style1, bg='#4CAF50', fg='white')\n",
    "boton_cerrar.pack(pady=20)\n",
    "    \n",
    "# Boton para eliminar la fila seleccionada\n",
    "boton_eliminar = tk.Button(root1, text=\"Eliminar Fila\", command=eliminar_Data,\n",
    "                           font=button_style1, bg='#4CAF50', fg='white')\n",
    "boton_eliminar.pack(pady=20, padx=20)\n",
    "    \n",
    "# Boton para añadir nuevos datos\n",
    "boton_abrir = tk.Button(root1,text=\"Añadir Registro\", command=add_note,\n",
    "                        font=button_style1, bg='#4CAF50', fg='white')\n",
    "boton_abrir.pack(pady=20, padx=20)"
   ]
  },
  {
   "cell_type": "markdown",
   "metadata": {},
   "source": [
    "Loop principal de la app"
   ]
  },
  {
   "cell_type": "code",
   "execution_count": null,
   "metadata": {},
   "outputs": [],
   "source": [
    "# Ejecutar el bucle principal de Tkinter\n",
    "root1.mainloop()"
   ]
  }
 ],
 "metadata": {
  "language_info": {
   "name": "python"
  }
 },
 "nbformat": 4,
 "nbformat_minor": 2
}
